{
 "cells": [
  {
   "cell_type": "code",
   "execution_count": null,
   "metadata": {},
   "outputs": [],
   "source": [
    "%matplotlib inline\n",
    "import numpy as np\n",
    "import matplotlib.pyplot as plt"
   ]
  },
  {
   "cell_type": "code",
   "execution_count": null,
   "metadata": {
    "collapsed": true
   },
   "outputs": [],
   "source": [
    "def function_for_roots(x):        #set up the function\n",
    "    a = 1.01\n",
    "    b = -3.04\n",
    "    c = 2.07\n",
    "    return a*x**2 + b*x + c    #this returns function ax^2 + bx + c which we will get roots for"
   ]
  },
  {
   "cell_type": "code",
   "execution_count": null,
   "metadata": {
    "collapsed": true
   },
   "outputs": [],
   "source": [
    "def check_initial_values(f, x_min, x_max, tol):\n",
    "    y_min = f(x_min)\n",
    "    y_max = f(x_max)\n",
    "    #make sure there is a root to this function- it would have to cross zero\n",
    "    if(y_min*y_max>=0.0):\n",
    "        print(\"no zero crossing found in range = \", x_min,x_max)\n",
    "        s = \"f(%f) = %f, f(%f) = %f\" % (x_min,y_min,x_max,y_max)\n",
    "        print(s)\n",
    "        return 0\n",
    "    # return flag ==1 in the case x_min is a root\n",
    "    if(np.fabs(y_min)<tol):\n",
    "        return 1\n",
    "    #return flag ==2 if x_max is a root\n",
    "    if(np.fabs(y_min)<tol):\n",
    "        return 2\n",
    "    #the bracket is valid if it reaches this point, so return 3\n",
    "    return 3"
   ]
  },
  {
   "cell_type": "code",
   "execution_count": null,
   "metadata": {},
   "outputs": [],
   "source": [
    "def bisection_root_finding(f, x_min_start, x_max_start, tol):\n",
    "    #use bisection search to find the root\n",
    "    x_min = x_min_start     #minimum x in bracket\n",
    "    x_max = x_max_start   #max x in bracket\n",
    "    x_mid = 0.0        #mid point\n",
    "    \n",
    "    y_min = f(x_min)   #value at x_min\n",
    "    y_max = f(x_max)   #value at x_max\n",
    "    y_mid = 0.0     #value at mid point 0.0\n",
    "    \n",
    "    imax = 10000     #max iterations\n",
    "    i = 0     #keeps count of iterations\n",
    "    \n",
    "    #initial value check\n",
    "    flag = check_initial_values(f,x_min,x_max, tol)\n",
    "    if(flag==0):\n",
    "        print(\"error in bisection_root_finding().\")\n",
    "        raise ValueError('initial values invalid', x_min,x_max)\n",
    "    elif(flag==1):\n",
    "        return x_max\n",
    "    elif():\n",
    "        return x_min\n",
    "    \n",
    "    #now we need to conduct the search\n",
    "    #set a flag\n",
    "    flag = 1\n",
    "\n",
    "    while(flag):\n",
    "        x_mid = 0.5*(x_min+x_max) #mp\n",
    "        y_mid = f(x_mid)   #f(mid point)\n",
    "        #check whether mp is a root\n",
    "        if(np.fabs(y_mid)<tol):\n",
    "            flag = 0\n",
    "        else:\n",
    "            #x mid not a root\n",
    "            #if f(mp)*f(endpoint) > 0, replace it\n",
    "            if(f(x_min)*f(x_mid)>0):\n",
    "                #replace with x_mid\n",
    "                x_min = x_mid\n",
    "            else: #replace x_max with x_mid\n",
    "                x_max = x_mid\n",
    "            \n",
    "        #print iteration\n",
    "        print(x_min,f(x_min),x_max,f(x_max))\n",
    "        \n",
    "        #add iteration to iteration counter\n",
    "        i += 1\n",
    "        \n",
    "        #exit once max iterations has been reached\n",
    "        if(i>imax):\n",
    "            print(\"Exceeded max number of iterations = \",i)\n",
    "            s = \"Min bracket f(%f) = %f\" % (x_min,f(x_min))\n",
    "            print(s)\n",
    "            s = \"Max bracket f(%f) = %f\" % (x_max,f(x_max))\n",
    "            print(s)\n",
    "            s = \"Mid bracket f(%f) = %f\" % (x_mid,f(x_mid))\n",
    "            print(s)\n",
    "            raise StopIteration('Stopping iterations after, i')\n",
    "            \n",
    "    return x_mid"
   ]
  },
  {
   "cell_type": "code",
   "execution_count": null,
   "metadata": {},
   "outputs": [],
   "source": [
    "x_min = 0.0\n",
    "x_max = 1.5\n",
    "tolerance = 1.0e-6\n",
    "#print initial guess\n",
    "print(x_min,function_for_roots(x_min))\n",
    "print(x_max,function_for_roots(x_max))\n",
    "\n",
    "x_root = bisection_root_finding(function_for_roots,x_min,x_max,tolerance)\n",
    "y_root = function_for_roots(x_root)\n",
    "\n",
    "s = \"Root found with y(%f) = %f\" % (x_root,y_root)\n",
    "print(s)"
   ]
  },
  {
   "cell_type": "code",
   "execution_count": null,
   "metadata": {},
   "outputs": [],
   "source": [
    "a = 1.01\n",
    "b = -3.04\n",
    "c = 2.07\n",
    "x = np.linspace(0,3,1000)\n",
    "y = a*x**2 + b*x + c\n",
    "\n",
    "h = np.linspace(0,0,1000)\n",
    "\n",
    "(-.5,2.1)\n",
    "plt.plot(x,y)\n",
    "plt.plot(x,h)\n",
    "plt.show\n",
    "plt.xlim([0,3])       #x bounds\n",
    "plt.ylim([-.5,2.1])   #y bounds"
   ]
  },
  {
   "cell_type": "code",
   "execution_count": null,
   "metadata": {
    "collapsed": true
   },
   "outputs": [],
   "source": []
  }
 ],
 "metadata": {
  "kernelspec": {
   "display_name": "Python 3",
   "language": "python",
   "name": "python3"
  },
  "language_info": {
   "codemirror_mode": {
    "name": "ipython",
    "version": 3
   },
   "file_extension": ".py",
   "mimetype": "text/x-python",
   "name": "python",
   "nbconvert_exporter": "python",
   "pygments_lexer": "ipython3",
   "version": "3.6.1"
  }
 },
 "nbformat": 4,
 "nbformat_minor": 2
}
